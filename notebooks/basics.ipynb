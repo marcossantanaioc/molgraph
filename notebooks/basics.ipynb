{
 "cells": [
  {
   "cell_type": "code",
   "execution_count": null,
   "id": "053db7cd-a433-44c8-a1e7-6b0457f265a9",
   "metadata": {},
   "outputs": [],
   "source": []
  },
  {
   "cell_type": "code",
   "execution_count": null,
   "id": "83409adc-17f8-4568-8a72-29153783cb05",
   "metadata": {},
   "outputs": [],
   "source": [
    "\n",
    "import torch\n",
    "from torch import nn\n",
    "from fastai.data.core import DataLoader, DataLoaders, Datasets\n",
    "from fastcore.foundation import *\n",
    "from fastcore.basics import *\n",
    "from fastai.torch_core import Module\n",
    "import pandas as pd\n",
    "import numpy as np"
   ]
  },
  {
   "cell_type": "code",
   "execution_count": null,
   "id": "5ea8eded-157c-458d-b6a9-ada2ea30ac0b",
   "metadata": {},
   "outputs": [
    {
     "name": "stdout",
     "output_type": "stream",
     "text": [
      "Converted basics.ipynb.\n"
     ]
    }
   ],
   "source": [
    "# #| hide\n",
    "# from nbdev import nbdev_export\n",
    "# nbdev_export()"
   ]
  },
  {
   "cell_type": "code",
   "execution_count": null,
   "id": "10c0f119-03b8-4623-8137-19760f0c89a1",
   "metadata": {},
   "outputs": [],
   "source": []
  }
 ],
 "metadata": {
  "kernelspec": {
   "display_name": "cheminformatics",
   "language": "python",
   "name": "cheminformatics"
  }
 },
 "nbformat": 4,
 "nbformat_minor": 5
}
