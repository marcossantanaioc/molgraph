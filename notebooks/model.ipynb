{
 "cells": [
  {
   "cell_type": "markdown",
   "id": "b297daff-c32f-42a8-ae68-b536808bb361",
   "metadata": {},
   "source": [
    "# Load modules"
   ]
  },
  {
   "cell_type": "code",
   "execution_count": null,
   "id": "90da70a9-12c2-477d-9362-2355cd25360f",
   "metadata": {},
   "outputs": [],
   "source": [
    "#|default_exp models.gcnn"
   ]
  },
  {
   "cell_type": "code",
   "execution_count": null,
   "id": "35fa3097",
   "metadata": {},
   "outputs": [],
   "source": [
    "#|hide\n",
    "%load_ext autoreload\n",
    "%autoreload 2"
   ]
  },
  {
   "cell_type": "code",
   "execution_count": null,
   "id": "a4ddb213-6186-4913-a7dc-296d715f9961",
   "metadata": {},
   "outputs": [],
   "source": [
    "#|hide\n",
    "from nbdev.showdoc import show_doc"
   ]
  },
  {
   "cell_type": "code",
   "execution_count": null,
   "id": "0ba77df7-4698-4404-aa21-c31824de967f",
   "metadata": {},
   "outputs": [],
   "source": [
    "#|export\n",
    "import torch\n",
    "from torch import nn\n",
    "from fastai.data.core import DataLoader, DataLoaders, Datasets\n",
    "from fastcore.foundation import *\n",
    "from fastcore.basics import *\n",
    "from fastai.torch_core import Module\n",
    "from molgraph.layers import *\n",
    "from fastai.layers import SigmoidRange\n"
   ]
  },
  {
   "cell_type": "code",
   "execution_count": null,
   "id": "e4bafca9",
   "metadata": {},
   "outputs": [],
   "source": [
    "#|export\n",
    "class GCNMPNmodel(Module):\n",
    "    \n",
    "    \"\"\"\n",
    "    \n",
    "    Prototype Graph convolutional layer as described by Kipf & Welling (https://arxiv.org/pdf/1609.02907.pdf) and refactored as MPNN formalism.\n",
    "\n",
    "       \n",
    "    \"\"\"\n",
    "    \n",
    "    def __init__(self, n_node_features:int, hidden_units:int=100, num_layers:int=2, output_units:int=1, dropout:float=0.15, y_range=None):\n",
    "        \n",
    "        \"\"\"\n",
    "        \n",
    "        Arguments:\n",
    "        \n",
    "        n_node_features : int\n",
    "            Number of features of each atom\n",
    "            \n",
    "        hidden_units : int\n",
    "            Number of hidden units in `self.gcn`\n",
    "            \n",
    "            \n",
    "        num_layers : int\n",
    "            Number of layers\n",
    "                    \n",
    "        output_units : int\n",
    "            Number of output units\n",
    "                     \n",
    "        dropout : float (default = 0.15)\n",
    "            Amount of dropout regularization\n",
    "        \n",
    "        y_range : Tuple[float, float]\n",
    "            A tuple with the min,max interval of the target variable for regression tasks.\n",
    "            \n",
    "            \n",
    "        \"\"\"\n",
    "        self.message_function = MessageGCN(n_node_features, hidden_units, num_layers, hidden_units, dropout)\n",
    "        \n",
    "        self.update_function = UpdateGCN(hidden_units, hidden_units, num_layers, hidden_units, dropout)\n",
    "        \n",
    "        self.readout_function = nn.Linear(hidden_units, output_units)\n",
    "        \n",
    "        \n",
    "        self.sigmoid = SigmoidRange(*y_range) if y_range else None\n",
    "        \n",
    "    \n",
    "    def forward(self, x):\n",
    "        node_features, edge_features, adjacency_matrix, degree_matrix = x # Get input features \n",
    "        message = self.message_function((node_features, adjacency_matrix, degree_matrix))\n",
    "        node_state = self.update_function(message[0])\n",
    "        out = self.sigmoid(self.readout_function(node_state))\n",
    "        return out"
   ]
  },
  {
   "cell_type": "code",
   "execution_count": null,
   "id": "e51c0474-f803-44fc-bf5b-5963e82bccef",
   "metadata": {},
   "outputs": [
    {
     "data": {
      "text/markdown": [
       "---\n",
       "\n",
       "### GCNMPNmodel\n",
       "\n",
       ">      GCNMPNmodel (n_node_features:int, hidden_units:int=100, num_layers:int=2,\n",
       ">                   output_units:int=1, dropout:float=0.15, y_range=None)\n",
       "\n",
       "Prototype Graph convolutional layer as described by Kipf & Welling (https://arxiv.org/pdf/1609.02907.pdf) and refactored as MPNN formalism."
      ],
      "text/plain": [
       "<nbdev.showdoc.BasicMarkdownRenderer>"
      ]
     },
     "execution_count": null,
     "metadata": {},
     "output_type": "execute_result"
    }
   ],
   "source": [
    "show_doc(GCNMPNmodel)"
   ]
  },
  {
   "cell_type": "code",
   "execution_count": null,
   "id": "cdd1bf10-9cad-4ab5-9ee9-8941bbea3a98",
   "metadata": {},
   "outputs": [],
   "source": [
    "#| hide\n",
    "from nbdev import nbdev_export\n",
    "nbdev_export()"
   ]
  },
  {
   "cell_type": "code",
   "execution_count": null,
   "id": "ba03a3ea-f959-4197-b4d3-2254fd16c365",
   "metadata": {},
   "outputs": [],
   "source": []
  }
 ],
 "metadata": {
  "kernelspec": {
   "display_name": "cheminformatics",
   "language": "python",
   "name": "cheminformatics"
  }
 },
 "nbformat": 4,
 "nbformat_minor": 5
}
