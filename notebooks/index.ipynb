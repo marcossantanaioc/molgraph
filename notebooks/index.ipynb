{
 "cells": [
  {
   "cell_type": "markdown",
   "id": "1f9dfcc7-9a2b-49ed-8f0d-adf5060f2d86",
   "metadata": {},
   "source": [
    "# molgraph\n",
    "> Molgraph is a package that generate molecular graphs from SMILES.\n"
   ]
  },
  {
   "cell_type": "markdown",
   "id": "00fff605-2c83-4df5-9d20-444554b5d19d",
   "metadata": {},
   "source": [
    "# Requirements\n",
    "\n",
    "1) git clone https://github.com/chembl/ChEMBL_Structure_Pipeline.git\n",
    "\n",
    "2) pip install ./ChEMBL_Structure_Pipeline\n",
    "\n",
    "3) conda install -c conda-forge rdkit or pip install rdkit-pypi\n",
    "\n",
    "4) pip install git+https://github.com/bp-kelley/descriptastorus\n",
    "\n",
    "5) pip install fastai"
   ]
  },
  {
   "cell_type": "code",
   "execution_count": null,
   "id": "16a19e45-4b5b-4dd1-b865-8d370271887c",
   "metadata": {},
   "outputs": [],
   "source": []
  }
 ],
 "metadata": {
  "kernelspec": {
   "display_name": "cheminformatics",
   "language": "python",
   "name": "cheminformatics"
  }
 },
 "nbformat": 4,
 "nbformat_minor": 5
}
