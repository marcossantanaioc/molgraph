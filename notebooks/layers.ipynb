{
 "cells": [
  {
   "cell_type": "markdown",
   "id": "b297daff-c32f-42a8-ae68-b536808bb361",
   "metadata": {},
   "source": [
    "# Load modules"
   ]
  },
  {
   "cell_type": "code",
   "execution_count": null,
   "id": "90da70a9-12c2-477d-9362-2355cd25360f",
   "metadata": {},
   "outputs": [],
   "source": [
    "#|hide\n",
    "#|default_exp layers"
   ]
  },
  {
   "cell_type": "code",
   "execution_count": null,
   "id": "35fa3097",
   "metadata": {},
   "outputs": [],
   "source": [
    "#|hide\n",
    "%load_ext autoreload\n",
    "%autoreload 2"
   ]
  },
  {
   "cell_type": "code",
   "execution_count": null,
   "id": "63178b66-878b-40bd-965e-08d561ad47fa",
   "metadata": {},
   "outputs": [],
   "source": [
    "#|hide\n",
    "from nbdev.showdoc import show_doc"
   ]
  },
  {
   "cell_type": "code",
   "execution_count": null,
   "id": "0ba77df7-4698-4404-aa21-c31824de967f",
   "metadata": {},
   "outputs": [],
   "source": [
    "#|export\n",
    "import torch\n",
    "from torch import nn\n",
    "from fastai.data.core import DataLoader, DataLoaders, Datasets\n",
    "from fastcore.foundation import *\n",
    "from fastcore.basics import *\n",
    "from fastai.torch_core import Module\n"
   ]
  },
  {
   "cell_type": "code",
   "execution_count": null,
   "id": "b908590e-1e2e-4609-8d8b-be43e7d6caa5",
   "metadata": {},
   "outputs": [],
   "source": [
    "#|export\n",
    "def feed_forward(input_dim:int, hidden_dim:int=100, num_layers:int=2, output_dim:int=1, dropout=0.1, activation=nn.ReLU):\n",
    "    \"\"\"Simple function to generate a feed forward neural network with ´num_layers´, ´hidden_dim´ hidden units and ´output_dim´ output units. Default activation function is reLu.\"\"\"\n",
    "    dims = [input_dim] + [hidden_dim] * num_layers\n",
    "    layers = []\n",
    "    for i in range(num_layers):      \n",
    "        layers.append(nn.Linear(dims[i], dims[i + 1]))\n",
    "        layers.append(nn.Dropout(dropout))\n",
    "        layers.append(activation())      \n",
    "    layers.append(nn.Linear(hidden_dim, output_dim))\n",
    "    return nn.Sequential(*layers)"
   ]
  },
  {
   "cell_type": "code",
   "execution_count": null,
   "id": "a0c1d6b8-3b80-4bfa-8af9-8bcaab82f8e7",
   "metadata": {},
   "outputs": [
    {
     "data": {
      "text/markdown": [
       "---\n",
       "\n",
       "#### feed_forward\n",
       "\n",
       ">      feed_forward (input_dim:int, hidden_dim:int=100, num_layers:int=2,\n",
       ">                    output_dim:int=1, dropout=0.1,\n",
       ">                    activation=<class'torch.nn.modules.activation.ReLU'>)\n",
       "\n",
       "Simple function to generate a feed forward neural network with ´num_layers´, ´hidden_dim´ hidden units and ´output_dim´ output units. Default activation function is reLu."
      ],
      "text/plain": [
       "<nbdev.showdoc.BasicMarkdownRenderer>"
      ]
     },
     "execution_count": null,
     "metadata": {},
     "output_type": "execute_result"
    }
   ],
   "source": [
    "show_doc(feed_forward)"
   ]
  },
  {
   "cell_type": "code",
   "execution_count": null,
   "id": "6673272d-c723-48b2-9770-09336d35f46e",
   "metadata": {},
   "outputs": [],
   "source": [
    "#|export\n",
    "class MessageGCN(Module):\n",
    "    \n",
    "    \"\"\"\n",
    "    \n",
    "    Message function from Graph convolutional network as described by Kipf & Welling (https://arxiv.org/pdf/1609.02907.pdf) and refactored as MPNN formalism.\n",
    "\n",
    "       \n",
    "    \"\"\"\n",
    "    \n",
    "    def __init__(self, n_node_features:int, hidden_units:int=100, num_layers:int=2, output_units:int=1, dropout:float=0.15):\n",
    "        \n",
    "        \"\"\"\n",
    "        \n",
    "        Arguments:\n",
    "        \n",
    "        n_node_features : int\n",
    "            Number of features of each atom\n",
    "            \n",
    "        hidden_units : int (default = 100)\n",
    "            Number of hidden units in `self.gcn`\n",
    "            \n",
    "        num_layers : int (default = 2)\n",
    "            Number of hidden layers \n",
    "            \n",
    "        output_units : int (default = 1)\n",
    "            Number of output units of the last layer\n",
    "                                 \n",
    "        dropout : float (default = 0.15)\n",
    "            Amount of dropout regularization\n",
    "        \n",
    "        \n",
    "        \"\"\"\n",
    "        \n",
    "        self.message_function = feed_forward(n_node_features, hidden_units, num_layers, output_units, dropout)\n",
    "        \n",
    "    \n",
    "    def forward(self,x):\n",
    "        node_features, adjacency_matrix, degree_matrix = x\n",
    "        message = self.message_function(degree_matrix@adjacency_matrix@degree_matrix@node_features)\n",
    "        return (message, adjacency_matrix, degree_matrix)"
   ]
  },
  {
   "cell_type": "code",
   "execution_count": null,
   "id": "e920bd11-8096-4b6a-b982-895eb6507b41",
   "metadata": {},
   "outputs": [
    {
     "data": {
      "text/markdown": [
       "---\n",
       "\n",
       "### MessageGCN\n",
       "\n",
       ">      MessageGCN (n_node_features:int, hidden_units:int=100, num_layers:int=2,\n",
       ">                  output_units:int=1, dropout:float=0.15)\n",
       "\n",
       "Message function from Graph convolutional network as described by Kipf & Welling (https://arxiv.org/pdf/1609.02907.pdf) and refactored as MPNN formalism."
      ],
      "text/plain": [
       "<nbdev.showdoc.BasicMarkdownRenderer>"
      ]
     },
     "execution_count": null,
     "metadata": {},
     "output_type": "execute_result"
    }
   ],
   "source": [
    "show_doc(MessageGCN)"
   ]
  },
  {
   "cell_type": "code",
   "execution_count": null,
   "id": "ea613e89",
   "metadata": {},
   "outputs": [],
   "source": [
    "#|export\n",
    "class UpdateGCN(Module):\n",
    "    \n",
    "    \"\"\"\n",
    "    \n",
    "    Vertex update function from Graph convolutional network as described by Kipf & Welling (https://arxiv.org/pdf/1609.02907.pdf) and refactored as MPNN formalism.\n",
    "\n",
    "       \n",
    "    \"\"\"\n",
    "    \n",
    "    def __init__(self,  n_updated_features:int, hidden_units:int=100, num_layers:int=2, output_units:int=1, dropout:float=0.15):\n",
    "        \n",
    "        \"\"\"\n",
    "        \n",
    "        Arguments:\n",
    "        \n",
    "        n_node_features : int\n",
    "            Number of features of each atom\n",
    "            \n",
    "        hidden_units : int (default = 100)\n",
    "            Number of hidden units in `self.gcn`\n",
    "            \n",
    "        num_layers : int (default = 2)\n",
    "            Number of hidden layers \n",
    "            \n",
    "        output_units : int (default = 1)\n",
    "            Number of output units of the last layer\n",
    "                                 \n",
    "        dropout : float (default = 0.15)\n",
    "            Amount of dropout regularization\n",
    "        \n",
    "        \"\"\"\n",
    "        \n",
    "        self.update_function = feed_forward(n_updated_features, hidden_units, num_layers, output_units, dropout)\n",
    "    \n",
    "    def forward(self, message):\n",
    "        node_state = self.update_function(torch.mean(message, 1))\n",
    "        return node_state"
   ]
  },
  {
   "cell_type": "code",
   "execution_count": null,
   "id": "4cf92421-7f98-4e4b-8c53-72004e30fe76",
   "metadata": {},
   "outputs": [
    {
     "data": {
      "text/markdown": [
       "---\n",
       "\n",
       "### UpdateGCN\n",
       "\n",
       ">      UpdateGCN (n_updated_features:int, hidden_units:int=100,\n",
       ">                 num_layers:int=2, output_units:int=1, dropout:float=0.15)\n",
       "\n",
       "Vertex update function from Graph convolutional network as described by Kipf & Welling (https://arxiv.org/pdf/1609.02907.pdf) and refactored as MPNN formalism."
      ],
      "text/plain": [
       "<nbdev.showdoc.BasicMarkdownRenderer>"
      ]
     },
     "execution_count": null,
     "metadata": {},
     "output_type": "execute_result"
    }
   ],
   "source": [
    "show_doc(UpdateGCN)"
   ]
  },
  {
   "cell_type": "code",
   "execution_count": null,
   "id": "36a185f6-311f-4619-aa57-1e18fb3542be",
   "metadata": {},
   "outputs": [],
   "source": [
    "#| hide\n",
    "from nbdev import nbdev_export\n",
    "nbdev_export()"
   ]
  },
  {
   "cell_type": "code",
   "execution_count": null,
   "id": "3f31fae6-bf12-49de-8324-3646848bde75",
   "metadata": {},
   "outputs": [],
   "source": []
  }
 ],
 "metadata": {
  "kernelspec": {
   "display_name": "cheminformatics",
   "language": "python",
   "name": "cheminformatics"
  }
 },
 "nbformat": 4,
 "nbformat_minor": 5
}
